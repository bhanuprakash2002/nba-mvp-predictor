{
 "cells": [
  {
   "cell_type": "code",
   "execution_count": null,
   "metadata": {},
   "outputs": [
    {
     "ename": "",
     "evalue": "",
     "output_type": "error",
     "traceback": [
      "\u001b[1;31mRunning cells with 'nba-mvp-predictor-DVQmWVoq' requires the ipykernel package.\n",
      "\u001b[1;31mRun the following command to install 'ipykernel' into the Python environment. \n",
      "\u001b[1;31mCommand: '/Users/pauldesigaud/.local/share/virtualenvs/nba-mvp-predictor-DVQmWVoq/bin/python -m pip install ipykernel -U --force-reinstall'"
     ]
    }
   ],
   "source": [
    "import os"
   ]
  },
  {
   "cell_type": "code",
   "execution_count": null,
   "metadata": {},
   "outputs": [
    {
     "ename": "",
     "evalue": "",
     "output_type": "error",
     "traceback": [
      "\u001b[1;31mRunning cells with 'nba-mvp-predictor-DVQmWVoq' requires the ipykernel package.\n",
      "\u001b[1;31mRun the following command to install 'ipykernel' into the Python environment. \n",
      "\u001b[1;31mCommand: '/Users/pauldesigaud/.local/share/virtualenvs/nba-mvp-predictor-DVQmWVoq/bin/python -m pip install ipykernel -U --force-reinstall'"
     ]
    }
   ],
   "source": [
    "os.environ['LOG_LEVEL'] = 'INFO'"
   ]
  },
  {
   "cell_type": "code",
   "execution_count": null,
   "metadata": {},
   "outputs": [
    {
     "ename": "",
     "evalue": "",
     "output_type": "error",
     "traceback": [
      "\u001b[1;31mRunning cells with 'nba-mvp-predictor-DVQmWVoq' requires the ipykernel package.\n",
      "\u001b[1;31mRun the following command to install 'ipykernel' into the Python environment. \n",
      "\u001b[1;31mCommand: '/Users/pauldesigaud/.local/share/virtualenvs/nba-mvp-predictor-DVQmWVoq/bin/python -m pip install ipykernel -U --force-reinstall'"
     ]
    }
   ],
   "source": [
    "import time \n",
    "\n",
    "from IPython.display import display\n",
    "import pandas\n",
    "import seaborn\n",
    "from matplotlib import pyplot\n",
    "\n",
    "from nba_mvp_predictor import scrappers"
   ]
  },
  {
   "cell_type": "code",
   "execution_count": null,
   "metadata": {},
   "outputs": [
    {
     "ename": "",
     "evalue": "",
     "output_type": "error",
     "traceback": [
      "\u001b[1;31mRunning cells with 'nba-mvp-predictor-DVQmWVoq' requires the ipykernel package.\n",
      "\u001b[1;31mRun the following command to install 'ipykernel' into the Python environment. \n",
      "\u001b[1;31mCommand: '/Users/pauldesigaud/.local/share/virtualenvs/nba-mvp-predictor-DVQmWVoq/bin/python -m pip install ipykernel -U --force-reinstall'"
     ]
    }
   ],
   "source": [
    "scrapper = scrappers.BasketballReferenceScrapper()"
   ]
  },
  {
   "cell_type": "code",
   "execution_count": null,
   "metadata": {},
   "outputs": [
    {
     "ename": "",
     "evalue": "",
     "output_type": "error",
     "traceback": [
      "\u001b[1;31mRunning cells with 'nba-mvp-predictor-DVQmWVoq' requires the ipykernel package.\n",
      "\u001b[1;31mRun the following command to install 'ipykernel' into the Python environment. \n",
      "\u001b[1;31mCommand: '/Users/pauldesigaud/.local/share/virtualenvs/nba-mvp-predictor-DVQmWVoq/bin/python -m pip install ipykernel -U --force-reinstall'"
     ]
    }
   ],
   "source": [
    "#years = range(2000, 2023)\n",
    "years = range(1977, 2023)"
   ]
  },
  {
   "cell_type": "code",
   "execution_count": null,
   "metadata": {},
   "outputs": [
    {
     "ename": "",
     "evalue": "",
     "output_type": "error",
     "traceback": [
      "\u001b[1;31mRunning cells with 'nba-mvp-predictor-DVQmWVoq' requires the ipykernel package.\n",
      "\u001b[1;31mRun the following command to install 'ipykernel' into the Python environment. \n",
      "\u001b[1;31mCommand: '/Users/pauldesigaud/.local/share/virtualenvs/nba-mvp-predictor-DVQmWVoq/bin/python -m pip install ipykernel -U --force-reinstall'"
     ]
    }
   ],
   "source": [
    "# Median of the ration played games / total games accross teams = 50%.\n",
    "half_season_dates = {\n",
    "    1977: {'day':17, 'month':1},\n",
    "    1978: {'day':17, 'month':1},\n",
    "    1979: {'day':11, 'month':1},\n",
    "    1980: {'day':6, 'month':1},\n",
    "    1981: {'day':5, 'month':1},\n",
    "    1982: {'day':23, 'month':1},\n",
    "    1983: {'day':22, 'month':1},\n",
    "    1984: {'day':21, 'month':1}, \n",
    "    1985: {'day':20, 'month':1},\n",
    "    1986: {'day':20, 'month':1},\n",
    "    1987: {'day':25, 'month':1},\n",
    "    1988: {'day':30, 'month':1},\n",
    "    1989: {'day':28, 'month':1},\n",
    "    1990: {'day':27, 'month':1},\n",
    "    1991: {'day':24, 'month':1},\n",
    "    1992: {'day':23, 'month':1},\n",
    "    1993: {'day':28, 'month':1},\n",
    "    1994: {'day':28, 'month':1},\n",
    "    1995: {'day':28, 'month':1},\n",
    "    1996: {'day':27, 'month':1},\n",
    "    1997: {'day':24, 'month':1},\n",
    "    1998: {'day':25, 'month':1},\n",
    "    1999: {'day':21, 'month':3},\n",
    "    2000: {'day':25, 'month':1},\n",
    "    2001: {'day':23, 'month':1},\n",
    "    2002: {'day':22, 'month':1},\n",
    "    2003: {'day':22, 'month':1},\n",
    "    2004: {'day':20, 'month':1},\n",
    "    2005: {'day':25, 'month':1},\n",
    "    2006: {'day':25, 'month':1},\n",
    "    2007: {'day':22, 'month':1},\n",
    "    2008: {'day':22, 'month':1},\n",
    "    2009: {'day':20, 'month':1},\n",
    "    2010: {'day':20, 'month':1},\n",
    "    2011: {'day':18, 'month':1},\n",
    "    2012: {'day':22, 'month':2},\n",
    "    2013: {'day':21, 'month':1},\n",
    "    2014: {'day':20, 'month':1},\n",
    "    2015: {'day':18, 'month':1},\n",
    "    2016: {'day':16, 'month':1},\n",
    "    2017: {'day':16, 'month':1},\n",
    "    2018: {'day':10, 'month':1},\n",
    "    2019: {'day':10, 'month':1},\n",
    "    2020: {'day':29, 'month':12, 'year':2019},\n",
    "    2021: {'day':10, 'month':3},\n",
    "    2022: {'day':11, 'month':1},\n",
    "}\n",
    "default_half_season_month = 1\n",
    "default_half_season_day = 20"
   ]
  },
  {
   "cell_type": "code",
   "execution_count": null,
   "metadata": {},
   "outputs": [
    {
     "ename": "",
     "evalue": "",
     "output_type": "error",
     "traceback": [
      "\u001b[1;31mRunning cells with 'nba-mvp-predictor-DVQmWVoq' requires the ipykernel package.\n",
      "\u001b[1;31mRun the following command to install 'ipykernel' into the Python environment. \n",
      "\u001b[1;31mCommand: '/Users/pauldesigaud/.local/share/virtualenvs/nba-mvp-predictor-DVQmWVoq/bin/python -m pip install ipykernel -U --force-reinstall'"
     ]
    }
   ],
   "source": [
    "dfs = []\n",
    "rename_cols = {'CONF_RANK' : 'Conference standing', 'W/L%' : 'Win %'}\n",
    "keep_cols = ['Win %', 'Conference standing']\n",
    "suffixes = (' at half season', ' at the end of the season')\n",
    "ratio_games_played_at_half_season = []\n",
    "for year in years:\n",
    "    print(f'Loading standings for year {year}...')\n",
    "    try:\n",
    "        half_season_day = half_season_dates[year]['day']\n",
    "        half_season_month = half_season_dates[year]['month']\n",
    "    except KeyError:\n",
    "        half_season_day = default_half_season_day\n",
    "        half_season_month = default_half_season_month\n",
    "        print(f'Using default half season date for year {year}')\n",
    "    try:\n",
    "        half_season_year = half_season_dates[year]['year']\n",
    "    except KeyError:\n",
    "        half_season_year = year\n",
    "    time.sleep(2)\n",
    "    half_season_data = scrapper.get_team_standings_on_date(half_season_day, half_season_month, half_season_year)\n",
    "    time.sleep(2)\n",
    "    \n",
    "    #full_season_data = scrapper.get_team_standings_on_date(end_season_day, end_season_month, year)\n",
    "    full_season_data = scrapper.get_team_standings([year])\n",
    "    full_season_data = full_season_data.set_index('TEAM', drop=True)\n",
    "\n",
    "    games_played_at_half_season = (half_season_data['W'] + half_season_data['L']).median()\n",
    "    games_played_at_full_season = (full_season_data['W'] + full_season_data['L']).median()\n",
    "\n",
    "    half_season_data = half_season_data.rename(columns=rename_cols)\n",
    "    full_season_data = full_season_data.rename(columns=rename_cols)\n",
    "    half_season_data = half_season_data[keep_cols]\n",
    "    full_season_data = full_season_data[keep_cols]\n",
    "    all_data = half_season_data.merge(full_season_data, how='inner', left_index=True, right_index=True, suffixes=suffixes)\n",
    "    all_data['Season'] = year\n",
    "    all_data['Team']  = all_data.index\n",
    "    all_data = all_data.set_index(['Team', 'Season'], drop=True)\n",
    "    dfs.append(all_data)\n",
    "    ratio_games_played_at_half_season.append(\n",
    "        f'{year} :' + '{:.0%}'.format(games_played_at_half_season/games_played_at_full_season)\n",
    "    )\n",
    "all_years_data = pandas.concat(\n",
    "    dfs, join=\"outer\", axis=\"index\", ignore_index=False\n",
    ")\n",
    "print('% of games played at the chosen half season date:', ', '.join(ratio_games_played_at_half_season))"
   ]
  },
  {
   "cell_type": "code",
   "execution_count": null,
   "metadata": {},
   "outputs": [
    {
     "ename": "",
     "evalue": "",
     "output_type": "error",
     "traceback": [
      "\u001b[1;31mRunning cells with 'nba-mvp-predictor-DVQmWVoq' requires the ipykernel package.\n",
      "\u001b[1;31mRun the following command to install 'ipykernel' into the Python environment. \n",
      "\u001b[1;31mCommand: '/Users/pauldesigaud/.local/share/virtualenvs/nba-mvp-predictor-DVQmWVoq/bin/python -m pip install ipykernel -U --force-reinstall'"
     ]
    }
   ],
   "source": [
    "all_years_data.sample(3)"
   ]
  },
  {
   "cell_type": "code",
   "execution_count": null,
   "metadata": {},
   "outputs": [
    {
     "ename": "",
     "evalue": "",
     "output_type": "error",
     "traceback": [
      "\u001b[1;31mRunning cells with 'nba-mvp-predictor-DVQmWVoq' requires the ipykernel package.\n",
      "\u001b[1;31mRun the following command to install 'ipykernel' into the Python environment. \n",
      "\u001b[1;31mCommand: '/Users/pauldesigaud/.local/share/virtualenvs/nba-mvp-predictor-DVQmWVoq/bin/python -m pip install ipykernel -U --force-reinstall'"
     ]
    }
   ],
   "source": [
    "delta_suffix = ' variation'\n",
    "for col in keep_cols:\n",
    "    all_years_data[f'{col}{delta_suffix}'] = all_years_data[f'{col}{suffixes[1]}'] - all_years_data[f'{col}{suffixes[0]}']"
   ]
  },
  {
   "cell_type": "code",
   "execution_count": null,
   "metadata": {},
   "outputs": [
    {
     "ename": "",
     "evalue": "",
     "output_type": "error",
     "traceback": [
      "\u001b[1;31mRunning cells with 'nba-mvp-predictor-DVQmWVoq' requires the ipykernel package.\n",
      "\u001b[1;31mRun the following command to install 'ipykernel' into the Python environment. \n",
      "\u001b[1;31mCommand: '/Users/pauldesigaud/.local/share/virtualenvs/nba-mvp-predictor-DVQmWVoq/bin/python -m pip install ipykernel -U --force-reinstall'"
     ]
    }
   ],
   "source": [
    "top_n = 10\n",
    "for col in keep_cols:\n",
    "    show_cols = [f'{col}{suffixes[0]}', f'{col}{suffixes[1]}', f'{col}{delta_suffix}']\n",
    "    print(f'Top {top_n} increases in {col} since {min(years)}')\n",
    "    top = all_years_data.sort_values(by=f'{col}{delta_suffix}', ascending=False).head(top_n)[show_cols]\n",
    "    display(top)"
   ]
  },
  {
   "cell_type": "code",
   "execution_count": null,
   "metadata": {},
   "outputs": [
    {
     "ename": "",
     "evalue": "",
     "output_type": "error",
     "traceback": [
      "\u001b[1;31mRunning cells with 'nba-mvp-predictor-DVQmWVoq' requires the ipykernel package.\n",
      "\u001b[1;31mRun the following command to install 'ipykernel' into the Python environment. \n",
      "\u001b[1;31mCommand: '/Users/pauldesigaud/.local/share/virtualenvs/nba-mvp-predictor-DVQmWVoq/bin/python -m pip install ipykernel -U --force-reinstall'"
     ]
    }
   ],
   "source": [
    "top_n = 10\n",
    "for col in keep_cols:\n",
    "    show_cols = [f'{col}{suffixes[0]}', f'{col}{suffixes[1]}', f'{col}{delta_suffix}']\n",
    "    print(f'Top {top_n} decreases in {col} since {min(years)}')\n",
    "    top = all_years_data.sort_values(by=f'{col}{delta_suffix}', ascending=True).head(top_n)[show_cols]\n",
    "    display(top)"
   ]
  },
  {
   "cell_type": "code",
   "execution_count": null,
   "metadata": {},
   "outputs": [
    {
     "ename": "",
     "evalue": "",
     "output_type": "error",
     "traceback": [
      "\u001b[1;31mRunning cells with 'nba-mvp-predictor-DVQmWVoq' requires the ipykernel package.\n",
      "\u001b[1;31mRun the following command to install 'ipykernel' into the Python environment. \n",
      "\u001b[1;31mCommand: '/Users/pauldesigaud/.local/share/virtualenvs/nba-mvp-predictor-DVQmWVoq/bin/python -m pip install ipykernel -U --force-reinstall'"
     ]
    }
   ],
   "source": [
    "top_n = 10\n",
    "for col in keep_cols:\n",
    "    show_cols = [f'{col}{suffixes[0]}', f'{col}{suffixes[1]}', f'{col}{delta_suffix}']\n",
    "    print(f'Top {top_n} absolute variations in {col} since {min(years)}')\n",
    "    top = all_years_data.sort_values(by=f'{col}{delta_suffix}', ascending=False, key=abs).head(top_n)[show_cols]\n",
    "    display(top)"
   ]
  },
  {
   "cell_type": "code",
   "execution_count": null,
   "metadata": {},
   "outputs": [
    {
     "ename": "",
     "evalue": "",
     "output_type": "error",
     "traceback": [
      "\u001b[1;31mRunning cells with 'nba-mvp-predictor-DVQmWVoq' requires the ipykernel package.\n",
      "\u001b[1;31mRun the following command to install 'ipykernel' into the Python environment. \n",
      "\u001b[1;31mCommand: '/Users/pauldesigaud/.local/share/virtualenvs/nba-mvp-predictor-DVQmWVoq/bin/python -m pip install ipykernel -U --force-reinstall'"
     ]
    }
   ],
   "source": [
    "import matplotlib.pyplot as plt\n",
    "from matplotlib.font_manager import FontProperties"
   ]
  },
  {
   "cell_type": "code",
   "execution_count": null,
   "metadata": {},
   "outputs": [
    {
     "ename": "",
     "evalue": "",
     "output_type": "error",
     "traceback": [
      "\u001b[1;31mRunning cells with 'nba-mvp-predictor-DVQmWVoq' requires the ipykernel package.\n",
      "\u001b[1;31mRun the following command to install 'ipykernel' into the Python environment. \n",
      "\u001b[1;31mCommand: '/Users/pauldesigaud/.local/share/virtualenvs/nba-mvp-predictor-DVQmWVoq/bin/python -m pip install ipykernel -U --force-reinstall'"
     ]
    }
   ],
   "source": [
    "def plot_variations_standings(sorted_dataframe, start_col, end_col, variation_col, n, center_text=False):\n",
    "\n",
    "    seaborn.set(font=\"Robono\")\n",
    "\n",
    "    sorted_dataframe = sorted_dataframe.sort_values(by=variation_col, key=abs)\n",
    "\n",
    "    #pyplot.style.use('fivethirtyeight')\n",
    "    #pyplot.style.use('bmh')\n",
    "    seaborn.set_style(\"darkgrid\")\n",
    "\n",
    "    #prop = FontProperties(fname='/System/Library/Fonts/Apple Color Emoji.ttc')\n",
    "    #pyplot.rcParams['font.family'] = prop.get_family()\n",
    "\n",
    "    sorted_dataframe['index_team'] = sorted_dataframe.index.get_level_values(0)\n",
    "    sorted_dataframe['index_season'] = sorted_dataframe.index.get_level_values(1)\n",
    "    sorted_dataframe['signed_variation'] = sorted_dataframe[variation_col].map(lambda x: f'+{x}' if x>0 else f'{x}')\n",
    "    sorted_dataframe['ticks'] = (\n",
    "        ''\n",
    "        + sorted_dataframe['index_team'].astype(str)\n",
    "        + ' '\n",
    "        + sorted_dataframe['index_season'].astype(str)\n",
    "        #+ ' ('\n",
    "        #+ sorted_dataframe['signed_variation'].astype(str)\n",
    "        #+ ') '\n",
    "    )\n",
    "\n",
    "    min_x_value = min(sorted_dataframe[start_col].min(), sorted_dataframe[end_col].min()) - 1\n",
    "    max_x_value = max(sorted_dataframe[start_col].max(), sorted_dataframe[end_col].max()) + 1\n",
    "\n",
    "    #initialize a plot\n",
    "    fig, ax = pyplot.subplots(figsize=(7,5))   #create figure\n",
    "    ax.set_xlim(min_x_value,max_x_value)                        #set x axis limits\n",
    "    ax.set_ylim(-1,n)                        #set y axis limits\n",
    "    #ax.set_yticks(range(n))                  #add 0-n ticks\n",
    "    #ax.set_yticklabels(sorted_dataframe.ticks)      #add y tick labels\n",
    "\n",
    "    #define arrows\n",
    "    arrow_starts = sorted_dataframe[start_col].values\n",
    "    arrow_ends = sorted_dataframe[end_col].values\n",
    "    arrow_lengths = sorted_dataframe[variation_col].values\n",
    "\n",
    "    #add arrows to plot\n",
    "    for i, subject in enumerate(sorted_dataframe.ticks):\n",
    "        \n",
    "        if arrow_lengths[i] > 0:\n",
    "            arrow_color = '#755555'\n",
    "        elif arrow_lengths[i] < 0:\n",
    "            arrow_color = '#4e6b56'\n",
    "        else:\n",
    "            arrow_color = 'black'\n",
    "\n",
    "        start_x = arrow_starts[i]\n",
    "        end_x = arrow_ends[i]\n",
    "        length_x = arrow_lengths[i]\n",
    "        mid_x = arrow_starts[i] + (length_x/2)\n",
    "\n",
    "        adjusted_length = length_x-0.4 if length_x>0 else length_x+0.4\n",
    "        \n",
    "        ax.arrow(\n",
    "            start_x,       #x start point\n",
    "            i,                      #y start point\n",
    "            adjusted_length,       #change in x \n",
    "            0,                      #change in y\n",
    "            head_width=0.6,         #arrow head width\n",
    "            head_length=0.4,        #arrow head length\n",
    "            width=0.7,              #arrow stem width\n",
    "            fc=arrow_color,         #arrow fill color\n",
    "            ec=arrow_color,          #arrow edge color\n",
    "            alpha=1.0,\n",
    "        )             \n",
    "\n",
    "        # Team and season\n",
    "        ax.text(\n",
    "            mid_x,\n",
    "            i,\n",
    "            subject,\n",
    "            horizontalalignment='center',\n",
    "            verticalalignment='center',\n",
    "            color='#efecec',\n",
    "            #weight=\"bold\",\n",
    "        )\n",
    "        if length_x>0:\n",
    "            # Arrow left to right\n",
    "            start_horizontal_alignment = 'right'\n",
    "            end_horizontal_alignment = 'left'\n",
    "            adjusted_start_x = start_x - 0.2\n",
    "            adjusted_end_x = end_x + 0.2\n",
    "        else:\n",
    "            # Arrow right to left\n",
    "            start_horizontal_alignment = 'left'\n",
    "            end_horizontal_alignment = 'right'\n",
    "            adjusted_start_x = start_x + 0.2\n",
    "            adjusted_end_x = end_x - 0.2\n",
    "        # Value at start\n",
    "        ax.text(\n",
    "            adjusted_start_x,\n",
    "            i,\n",
    "            f'{start_x}',\n",
    "            horizontalalignment = start_horizontal_alignment,\n",
    "            verticalalignment = 'center',\n",
    "            #weight=\"bold\",\n",
    "            color='#efecec',\n",
    "        )\n",
    "        # Value at end\n",
    "        ax.text(\n",
    "            adjusted_end_x,\n",
    "            i,\n",
    "            f'{end_x}',\n",
    "            horizontalalignment = end_horizontal_alignment,\n",
    "            verticalalignment = 'center',\n",
    "            #weight=\"bold\",\n",
    "            color='#efecec',\n",
    "        ) \n",
    "\n",
    "    # Watermark\n",
    "    ax.text(\n",
    "        15.5,\n",
    "        n,\n",
    "        '@wontcalltimeout',\n",
    "        fontsize=8,\n",
    "        horizontalalignment = 'center',\n",
    "        verticalalignment = 'top',\n",
    "        rotation=90,\n",
    "        color='#efecec',\n",
    "        alpha=0.3\n",
    "    )             \n",
    "\n",
    "    #format plot\n",
    "    ax.set_title(f'Biggest variations in conference standing \\n between half and end of the season (2000-2022)', color='#efecec')\n",
    "    ax.grid(axis='y', color='#2e2d2d')                        #add a light grid\n",
    "    ax.grid(axis='x', color='#2e2d2d')                        #add a light grid\n",
    "    ax.set_xlim(min_x_value, max_x_value)                                     #set x axis limits\n",
    "    ax.set_xticks(range(min_x_value+1, max_x_value), color='#efecec')  \n",
    "    ax.set_yticks([])                                     #set x axis limits\n",
    "    # Playoffs\n",
    "    ax.axvline(x=8, color='#2e2d2d', alpha=1, ls='-', linewidth=3, zorder=0) #add line at x=0\n",
    "    # Playin\n",
    "    #ax.axvline(x=6, color='#2e2d2d', alpha=1, ls='--', linewidth=2, zorder=0) #add line at x=0\n",
    "    ax.set_xlabel('Conference standing', color='#efecec')                               #label the x axis\n",
    "    #ax.set_ylabel('Team')                          #label the y axis\n",
    "    ax.set(ylabel=None)\n",
    "    ax.set_ylabel(None)\n",
    "    ax.set_facecolor('#525050')\n",
    "\n",
    "    ax.spines['bottom'].set_color('#efecec')\n",
    "    ax.spines['top'].set_color('#efecec')\n",
    "    ax.xaxis.label.set_color('#efecec')\n",
    "    ax.tick_params(axis='x', colors='#efecec')\n",
    "\n",
    "    ax.xaxis.label.set_color('#efecec')\n",
    "    #efecec\n",
    "    fig.patch.set_facecolor('#2e2d2d')\n",
    "    seaborn.despine(left=True, bottom=True)\n",
    "    plt.savefig('data/Biggest variations in conference standing between half and end of the season (2000-2022).png')"
   ]
  },
  {
   "cell_type": "code",
   "execution_count": null,
   "metadata": {},
   "outputs": [
    {
     "ename": "",
     "evalue": "",
     "output_type": "error",
     "traceback": [
      "\u001b[1;31mRunning cells with 'nba-mvp-predictor-DVQmWVoq' requires the ipykernel package.\n",
      "\u001b[1;31mRun the following command to install 'ipykernel' into the Python environment. \n",
      "\u001b[1;31mCommand: '/Users/pauldesigaud/.local/share/virtualenvs/nba-mvp-predictor-DVQmWVoq/bin/python -m pip install ipykernel -U --force-reinstall'"
     ]
    }
   ],
   "source": [
    "import numpy"
   ]
  },
  {
   "cell_type": "code",
   "execution_count": null,
   "metadata": {},
   "outputs": [
    {
     "ename": "",
     "evalue": "",
     "output_type": "error",
     "traceback": [
      "\u001b[1;31mRunning cells with 'nba-mvp-predictor-DVQmWVoq' requires the ipykernel package.\n",
      "\u001b[1;31mRun the following command to install 'ipykernel' into the Python environment. \n",
      "\u001b[1;31mCommand: '/Users/pauldesigaud/.local/share/virtualenvs/nba-mvp-predictor-DVQmWVoq/bin/python -m pip install ipykernel -U --force-reinstall'"
     ]
    }
   ],
   "source": [
    "def plot_variations_wl(sorted_dataframe, start_col, end_col, variation_col, n, center_text=False, dark_theme=True):\n",
    "    seaborn.set(font=\"Robono\")\n",
    "    if dark_theme:\n",
    "        font_color = '#efecec'\n",
    "        grid_background_color = '#525050'\n",
    "        chart_background_color = '#2e2d2d'\n",
    "    else:\n",
    "        font_color = None\n",
    "        grid_background_color = None\n",
    "        chart_background_color = 'white'\n",
    "    sorted_dataframe = sorted_dataframe.sort_values(by=variation_col, key=abs)\n",
    "    #pyplot.style.use('fivethirtyeight')\n",
    "    #pyplot.style.use('bmh')\n",
    "    seaborn.set_style(\"darkgrid\")\n",
    "    #prop = FontProperties(fname='/System/Library/Fonts/Apple Color Emoji.ttc')\n",
    "    #pyplot.rcParams['font.family'] = prop.get_family()\n",
    "    sorted_dataframe['index_team'] = sorted_dataframe.index.get_level_values(0)\n",
    "    sorted_dataframe['index_season'] = sorted_dataframe.index.get_level_values(1)\n",
    "    sorted_dataframe['signed_variation'] = sorted_dataframe[variation_col].map(lambda x: f'+{x}' if x>0 else f'{x}')\n",
    "    sorted_dataframe['ticks'] = (\n",
    "        ''\n",
    "        + sorted_dataframe['index_team'].astype(str)\n",
    "        + ' '\n",
    "        + sorted_dataframe['index_season'].astype(str)\n",
    "        #+ ' ('\n",
    "        #+ sorted_dataframe['signed_variation'].astype(str)\n",
    "        #+ ') '\n",
    "    )\n",
    "    step = 0.1\n",
    "    min_x_value = min(sorted_dataframe[start_col].min(), sorted_dataframe[end_col].min()) - step\n",
    "    max_x_value = max(sorted_dataframe[start_col].max(), sorted_dataframe[end_col].max()) + step\n",
    "    #initialize a plot\n",
    "    fig, ax = pyplot.subplots(figsize=(8, 6))   #create figure\n",
    "    ax.set_xlim(min_x_value, max_x_value)                        #set x axis limits\n",
    "    ax.set_ylim(-1, n-1)                        #set y axis limits\n",
    "    #ax.set_yticks(range(n))                  #add 0-n ticks\n",
    "    #ax.set_yticklabels(sorted_dataframe.ticks)      #add y tick labels\n",
    "    #define arrows\n",
    "    arrow_starts = sorted_dataframe[start_col].values\n",
    "    arrow_ends = sorted_dataframe[end_col].values\n",
    "    arrow_lengths = sorted_dataframe[variation_col].values\n",
    "    #add arrows to plot\n",
    "    for i, subject in enumerate(sorted_dataframe.ticks):\n",
    "        if arrow_lengths[i] < 0:\n",
    "            arrow_color = '#755555'\n",
    "            \n",
    "        elif arrow_lengths[i] > 0:\n",
    "            arrow_color = '#4e6b56'\n",
    "        else:\n",
    "            arrow_color = 'black'\n",
    "        start_x = arrow_starts[i]\n",
    "        end_x = arrow_ends[i]\n",
    "        length_x = arrow_lengths[i]\n",
    "        mid_x = arrow_starts[i] + (length_x/2)\n",
    "        adjusted_length = length_x-0.01 if length_x>0 else length_x+0.01\n",
    "        ax.arrow(\n",
    "            start_x,       #x start point\n",
    "            i,                      #y start point\n",
    "            adjusted_length,       #change in x \n",
    "            0,                      #change in y\n",
    "            head_width=0.6,         #arrow head width\n",
    "            head_length=0.01,        #arrow head length\n",
    "            width=0.7,              #arrow stem width\n",
    "            fc=arrow_color,         #arrow fill color\n",
    "            ec=arrow_color,          #arrow edge color\n",
    "            alpha=1.0,\n",
    "        )             \n",
    "        # Team and season\n",
    "        ax.text(\n",
    "            mid_x,\n",
    "            i,\n",
    "            subject,\n",
    "            horizontalalignment='center',\n",
    "            verticalalignment='center',\n",
    "            color=font_color,\n",
    "            weight=\"bold\",\n",
    "            fontsize=11,\n",
    "        )\n",
    "        if length_x>0:\n",
    "            # Arrow left to right\n",
    "            start_horizontal_alignment = 'right'\n",
    "            end_horizontal_alignment = 'left'\n",
    "            adjusted_start_x = start_x - 0.01\n",
    "            adjusted_end_x = end_x + 0.01\n",
    "            adjusted_end_x_variation = adjusted_end_x + 0.05\n",
    "        else:\n",
    "            # Arrow right to left\n",
    "            start_horizontal_alignment = 'left'\n",
    "            end_horizontal_alignment = 'right'\n",
    "            adjusted_start_x = start_x + 0.01\n",
    "            adjusted_end_x = end_x - 0.01\n",
    "            adjusted_end_x_variation = adjusted_end_x - 0.05\n",
    "        # Value at start\n",
    "        ax.text(\n",
    "            adjusted_start_x,\n",
    "            i,\n",
    "            '{:.2f}'.format(start_x),\n",
    "            horizontalalignment = start_horizontal_alignment,\n",
    "            verticalalignment = 'center',\n",
    "            #weight=\"bold\",\n",
    "            color=font_color,\n",
    "            fontsize=10,\n",
    "        )\n",
    "        # Value at end\n",
    "        ax.text(\n",
    "            adjusted_end_x,\n",
    "            i,\n",
    "            '{:.2f}'.format(end_x),\n",
    "            horizontalalignment = end_horizontal_alignment,\n",
    "            verticalalignment = 'center',\n",
    "            #weight=\"bold\",\n",
    "            color=font_color,\n",
    "            fontsize=10,\n",
    "        )\n",
    "        # Variation\n",
    "        ax.text(\n",
    "            adjusted_end_x_variation,\n",
    "            i,\n",
    "            (f'+' if length_x>0 else '') + '{:.2f}'.format(length_x),\n",
    "            horizontalalignment = end_horizontal_alignment,\n",
    "            verticalalignment = 'center',\n",
    "            weight=\"bold\",\n",
    "            color=arrow_color,\n",
    "            #style='italic',\n",
    "            fontsize=10,\n",
    "        ) \n",
    "    # Watermark\n",
    "    ax.text(\n",
    "        0.95,\n",
    "        (n-1)/2,\n",
    "        '@wontcalltimeout',\n",
    "        fontsize=8,\n",
    "        horizontalalignment = 'center',\n",
    "        verticalalignment = 'center',\n",
    "        rotation=90,\n",
    "        color=font_color,\n",
    "        alpha=0.5,\n",
    "    )\n",
    "    # Range\n",
    "    ax.text(\n",
    "        0.5,\n",
    "        n-0.5,\n",
    "        'From 1976-77 to 2021-22 season',\n",
    "        fontsize=9,\n",
    "        horizontalalignment = 'center',\n",
    "        verticalalignment = 'top',\n",
    "        color=font_color\n",
    "    )\n",
    "    title = 'Biggest variations in win% between half and end of the season'\n",
    "    if dark_theme:   \n",
    "        ax.set_title(\n",
    "            f'{title}\\n', \n",
    "            color=font_color,\n",
    "            fontsize=12,\n",
    "            fontweight='bold',\n",
    "        )\n",
    "        ax.set_xlabel('Win %', color=font_color)\n",
    "        ax.xaxis.label.set_color(font_color)\n",
    "        ax.tick_params(axis='x', colors=font_color)\n",
    "        ax.set_facecolor(grid_background_color)\n",
    "        ax.spines['bottom'].set_color(font_color)\n",
    "        ax.spines['top'].set_color(font_color) \n",
    "    else:\n",
    "        ax.set_title(\n",
    "            f'{title}\\n',\n",
    "            fontsize=12,\n",
    "            fontweight='bold',\n",
    "        )\n",
    "        ax.set_xlabel('Win %')\n",
    "        ax.tick_params(axis='x')\n",
    "\n",
    "    fig.patch.set_facecolor(chart_background_color)\n",
    "    ax.grid(axis='x', color=chart_background_color)\n",
    "    ax.grid(axis='y', color=chart_background_color)\n",
    "        \n",
    "    ax.set_xlim(min_x_value, max_x_value)\n",
    "    ax.set_xticks(\n",
    "        [round(x, 2) for x in numpy.arange(0.0, 1.1, step)], \n",
    "        color=font_color\n",
    "    )  \n",
    "    ax.set_yticks([])\n",
    "    ax.set(ylabel=None)\n",
    "    ax.set_ylabel(None)\n",
    "    seaborn.despine(left=True, bottom=True)\n",
    "    plt.savefig(f'data/{title}.png')"
   ]
  },
  {
   "cell_type": "code",
   "execution_count": null,
   "metadata": {},
   "outputs": [
    {
     "ename": "",
     "evalue": "",
     "output_type": "error",
     "traceback": [
      "\u001b[1;31mRunning cells with 'nba-mvp-predictor-DVQmWVoq' requires the ipykernel package.\n",
      "\u001b[1;31mRun the following command to install 'ipykernel' into the Python environment. \n",
      "\u001b[1;31mCommand: '/Users/pauldesigaud/.local/share/virtualenvs/nba-mvp-predictor-DVQmWVoq/bin/python -m pip install ipykernel -U --force-reinstall'"
     ]
    }
   ],
   "source": [
    "all_years_data['Abs. win % variation'] = all_years_data['Win % variation'].abs()\n",
    "quantile_99 = all_years_data['Abs. win % variation'].quantile(0.99)\n",
    "quantile_90 = all_years_data['Abs. win % variation'].quantile(0.90)\n",
    "quantile_50 = all_years_data['Abs. win % variation'].quantile(0.50)"
   ]
  },
  {
   "cell_type": "code",
   "execution_count": null,
   "metadata": {},
   "outputs": [
    {
     "ename": "",
     "evalue": "",
     "output_type": "error",
     "traceback": [
      "\u001b[1;31mRunning cells with 'nba-mvp-predictor-DVQmWVoq' requires the ipykernel package.\n",
      "\u001b[1;31mRun the following command to install 'ipykernel' into the Python environment. \n",
      "\u001b[1;31mCommand: '/Users/pauldesigaud/.local/share/virtualenvs/nba-mvp-predictor-DVQmWVoq/bin/python -m pip install ipykernel -U --force-reinstall'"
     ]
    }
   ],
   "source": [
    "quantile_99"
   ]
  },
  {
   "cell_type": "code",
   "execution_count": null,
   "metadata": {},
   "outputs": [
    {
     "ename": "",
     "evalue": "",
     "output_type": "error",
     "traceback": [
      "\u001b[1;31mRunning cells with 'nba-mvp-predictor-DVQmWVoq' requires the ipykernel package.\n",
      "\u001b[1;31mRun the following command to install 'ipykernel' into the Python environment. \n",
      "\u001b[1;31mCommand: '/Users/pauldesigaud/.local/share/virtualenvs/nba-mvp-predictor-DVQmWVoq/bin/python -m pip install ipykernel -U --force-reinstall'"
     ]
    }
   ],
   "source": [
    "col = 'Win %'\n",
    "sorted_dataframe = all_years_data.sort_values(by=f'{col}{delta_suffix}', ascending=False, key=abs) #.head(top_n)\n",
    "sorted_dataframe = all_years_data[all_years_data[f'{col}{delta_suffix}'].abs() > quantile_99]\n",
    "plot_variations_wl(\n",
    "    sorted_dataframe,\n",
    "    f'{col}{suffixes[0]}',\n",
    "    f'{col}{suffixes[1]}',\n",
    "    f'{col}{delta_suffix}',\n",
    "    top_n,\n",
    "    dark_theme=True\n",
    ")"
   ]
  },
  {
   "cell_type": "markdown",
   "metadata": {},
   "source": [
    "99% of the time, a team's winning percentage at the end of the season is equal to the mid-season percentage ± 14pp. Here are the 13 teams that defied the odds. ⤵️\n",
    "\n",
    "📈 Biggest uplift : In 2016-17, the Miami Heat had lost both Wade and Bosh. The team got off to an 11–30 start before they went 30–11. A crazy rally... only to be eliminated after the last game of the season.\n",
    "\n",
    "📉 Biggest downlift : In 2011, around the All-Star game, the 4th-seed Jazz traded lead scorer and passer (22-10) Deron Williams shortly after head coach Jerry Sloan resigned. The Jazz became the first team in NBA history to start 27–13 and fail to make the playoffs. \n",
    "\n",
    "Variations in win% and standings can be loosely correlated. Last year, Boston made a big leap from 10th to 3rd seed but their win% changed by 0.13pp only.\n",
    "\n",
    "For the nerds... Here is the distribution of variations in winning percentage for all 1260 seasons.\n"
   ]
  },
  {
   "cell_type": "code",
   "execution_count": null,
   "metadata": {},
   "outputs": [
    {
     "ename": "",
     "evalue": "",
     "output_type": "error",
     "traceback": [
      "\u001b[1;31mRunning cells with 'nba-mvp-predictor-DVQmWVoq' requires the ipykernel package.\n",
      "\u001b[1;31mRun the following command to install 'ipykernel' into the Python environment. \n",
      "\u001b[1;31mCommand: '/Users/pauldesigaud/.local/share/virtualenvs/nba-mvp-predictor-DVQmWVoq/bin/python -m pip install ipykernel -U --force-reinstall'"
     ]
    }
   ],
   "source": [
    "title = 'Distribution of absolute variations in win% between half and end of season'\n",
    "\n",
    "font_color = '#efecec'\n",
    "grid_background_color = '#525050'\n",
    "chart_background_color = '#2e2d2d'\n",
    "\n",
    "pyplot.figure(figsize=(8, 12))\n",
    "\n",
    "seaborn.set(\n",
    "    rc={\n",
    "        'axes.facecolor':grid_background_color,\n",
    "        'figure.facecolor':chart_background_color,\n",
    "        'axes.labelcolor': font_color,\n",
    "        'axes.edgecolor': chart_background_color,\n",
    "        'text.color': font_color,\n",
    "        'xtick.color': font_color,\n",
    "        'ytick.color': font_color,\n",
    "        'grid.color': chart_background_color,\n",
    "        'grid.linewidth': 0.3,\n",
    "        'axes.grid': True,\n",
    "        'axes.linewidth': 0.1,\n",
    "        'patch.linewidth':0.1,\n",
    "    }\n",
    ")\n",
    "\n",
    "plot = seaborn.displot(\n",
    "    all_years_data, x=\"Abs. win % variation\", binwidth=0.01, kde=False,\n",
    ")\n",
    "\n",
    "'''\n",
    "plot.set_titles(\n",
    "    f'{title}\\n',\n",
    "    fontsize=12,\n",
    "    fontweight='bold',\n",
    ")\n",
    "plot.set_xlabels('hey')\n",
    "plot.set_ylabels('you')\n",
    "'''\n",
    "\n",
    "quantiles_color = 'white'\n",
    "\n",
    "pyplot.title(\n",
    "    f'{title}\\n',\n",
    "    fontsize=12,\n",
    "    fontweight='bold',\n",
    ")\n",
    "\n",
    "pyplot.xlabel(\n",
    "    'Absolute variation in win%'\n",
    ")\n",
    "pyplot.ylabel(\n",
    "    'Number of occurences'\n",
    ")\n",
    "\n",
    "\n",
    "# Range\n",
    "pyplot.text(\n",
    "    0.125,\n",
    "    214,\n",
    "    'From 1976-77 to 2021-22 season',\n",
    "    fontsize=9,\n",
    "    horizontalalignment = 'center',\n",
    "    verticalalignment = 'top',\n",
    "    color=font_color\n",
    ")\n",
    "\n",
    "\n",
    "pyplot.axvline(x=quantile_50, color=quantiles_color, alpha=0.8, ls='--', linewidth=1)\n",
    "pyplot.axvline(x=quantile_90, color=quantiles_color, alpha=0.8, ls='--', linewidth=1)\n",
    "pyplot.axvline(x=quantile_99, color=quantiles_color, alpha=0.8, ls='--', linewidth=1)\n",
    "pyplot.text(\n",
    "    quantile_50,\n",
    "    205,\n",
    "    '50% ',\n",
    "    fontsize=10,\n",
    "    horizontalalignment = 'right',\n",
    "    verticalalignment = 'top',\n",
    "    rotation=90,\n",
    "    color=quantiles_color,\n",
    "    alpha=0.8,\n",
    ") \n",
    "pyplot.text(\n",
    "    quantile_90,\n",
    "    205,\n",
    "    '90% ',\n",
    "    fontsize=10,\n",
    "    horizontalalignment = 'right',\n",
    "    verticalalignment = 'top',\n",
    "    rotation=90,\n",
    "    color=quantiles_color,\n",
    "    alpha=0.8,\n",
    ") \n",
    "pyplot.text(\n",
    "    quantile_99,\n",
    "    205,\n",
    "    '99% ',\n",
    "    fontsize=10,\n",
    "    horizontalalignment = 'right',\n",
    "    verticalalignment = 'top',\n",
    "    rotation=90,\n",
    "    color=quantiles_color,\n",
    "    alpha=0.8,\n",
    ") \n",
    "#watermark\n",
    "pyplot.text(\n",
    "    0.24,\n",
    "    100,\n",
    "    '@wontcalltimeout',\n",
    "    fontsize=8,\n",
    "    horizontalalignment = 'center',\n",
    "    verticalalignment = 'center',\n",
    "    rotation=90,\n",
    "    color=font_color,\n",
    "    alpha=0.5,\n",
    ")\n",
    "pyplot.savefig(f'data/{title}.png')\n",
    "pyplot.show()\n"
   ]
  },
  {
   "cell_type": "code",
   "execution_count": null,
   "metadata": {},
   "outputs": [
    {
     "ename": "",
     "evalue": "",
     "output_type": "error",
     "traceback": [
      "\u001b[1;31mRunning cells with 'nba-mvp-predictor-DVQmWVoq' requires the ipykernel package.\n",
      "\u001b[1;31mRun the following command to install 'ipykernel' into the Python environment. \n",
      "\u001b[1;31mCommand: '/Users/pauldesigaud/.local/share/virtualenvs/nba-mvp-predictor-DVQmWVoq/bin/python -m pip install ipykernel -U --force-reinstall'"
     ]
    }
   ],
   "source": [
    "col = 'Conference standing'\n",
    "top_n = 14\n",
    "sorted_dataframe = all_years_data.sort_values(by=f'{col}{delta_suffix}', ascending=False, key=abs).head(top_n)\n",
    "plot_variations_standings(sorted_dataframe, f'{col}{suffixes[0]}', f'{col}{suffixes[1]}', f'{col}{delta_suffix}', top_n)"
   ]
  },
  {
   "cell_type": "code",
   "execution_count": null,
   "metadata": {},
   "outputs": [
    {
     "ename": "",
     "evalue": "",
     "output_type": "error",
     "traceback": [
      "\u001b[1;31mRunning cells with 'nba-mvp-predictor-DVQmWVoq' requires the ipykernel package.\n",
      "\u001b[1;31mRun the following command to install 'ipykernel' into the Python environment. \n",
      "\u001b[1;31mCommand: '/Users/pauldesigaud/.local/share/virtualenvs/nba-mvp-predictor-DVQmWVoq/bin/python -m pip install ipykernel -U --force-reinstall'"
     ]
    }
   ],
   "source": []
  }
 ],
 "metadata": {
  "kernelspec": {
   "display_name": "Python 3.10.9 ('nba-mvp-predictor-DVQmWVoq')",
   "language": "python",
   "name": "python3"
  },
  "language_info": {
   "codemirror_mode": {
    "name": "ipython",
    "version": 3
   },
   "file_extension": ".py",
   "mimetype": "text/x-python",
   "name": "python",
   "nbconvert_exporter": "python",
   "pygments_lexer": "ipython3",
   "version": "3.10.12"
  },
  "orig_nbformat": 4,
  "vscode": {
   "interpreter": {
    "hash": "48552060fdc15dce07b2cff227695e3c1968c2d424891ace35ab9632a6965f80"
   }
  }
 },
 "nbformat": 4,
 "nbformat_minor": 2
}
